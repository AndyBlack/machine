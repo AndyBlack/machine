{
 "cells": [
  {
   "cell_type": "markdown",
   "metadata": {},
   "source": [
    "# Machine Translation Tutorial\n",
    "\n",
    "Machine provides a general framework for machine translation engines. It currently provides implementations for rule-based MT, statistical MT (SMT), and neural MT (NMT). All MT engines implement the same interfaces, which provides a high level of extensibility for calling applications."
   ]
  },
  {
   "cell_type": "code",
   "execution_count": null,
   "metadata": {
    "dotnet_interactive": {
     "language": "csharp"
    }
   },
   "outputs": [
    {
     "data": {
      "text/html": [
       "<div><div></div><div></div><div><strong>Installed Packages</strong><ul><li><span>SIL.Scripture, 7.0.0</span></li><li><span>Thot, 3.3.5</span></li></ul></div></div>"
      ]
     },
     "metadata": {},
     "output_type": "display_data"
    }
   ],
   "source": [
    "#r \"nuget:SIL.Scripture,7.0.0\"\n",
    "#r \"nuget:Thot\"\n",
    "#r \"../src/SIL.Machine/bin/Debug/netstandard2.0/SIL.Machine.dll\"\n",
    "#r \"../src/SIL.Machine.Morphology.HermitCrab/bin/Debug/netstandard2.0/SIL.Machine.Morphology.HermitCrab.dll\"\n",
    "#r \"../src/SIL.Machine.Translation.Thot/bin/Debug/netstandard2.0/SIL.Machine.Translation.Thot.dll\"\n",
    "\n",
    "void Write(string text)\n",
    "{\n",
    "    Console.Write(text);\n",
    "}\n",
    "\n",
    "void WriteLine(string text = \"\")\n",
    "{\n",
    "    Console.Write(text + \"\\n\");\n",
    "}"
   ]
  },
  {
   "cell_type": "markdown",
   "metadata": {},
   "source": [
    "## Statistical Machine Translation\n",
    "\n",
    "Machine provides a phrase-based statistical machine translation engine that is based on the [Thot](https://github.com/sillsdev/thot) library. The SMT engine implemented in Thot is unique, because it supports incremental training and interactive machine translation (IMT). Let's start by training an SMT model. MT models implement the `ITranslationModel` interface. SMT models are trained using a parallel text corpus, so the first step is to create a `ParallelTextCorpus`."
   ]
  },
  {
   "cell_type": "code",
   "execution_count": null,
   "metadata": {
    "dotnet_interactive": {
     "language": "csharp"
    }
   },
   "outputs": [],
   "source": [
    "using SIL.Machine.Corpora;\n",
    "using SIL.Machine.Tokenization;\n",
    "\n",
    "var sourceCorpus = new TextFileTextCorpus(\"data/sp.txt\").Tokenize<LatinWordTokenizer>();\n",
    "var targetCorpus = new TextFileTextCorpus(\"data/en.txt\").Tokenize<LatinWordTokenizer>();\n",
    "var parallelCorpus = sourceCorpus.AlignRows(targetCorpus);"
   ]
  },
  {
   "cell_type": "markdown",
   "metadata": {},
   "source": [
    "Trainers are responsible for training MT models. A trainer can be created either using the constructor or using the `CreateTrainer` method on the `ITranslationModel` interface. Creating a trainer by constructor is useful if you are training a new model. The `CreateTrainer` method is useful when you are retraining an existing model. In this example, we are going to construct the trainer directly. Word alignment is at the core of SMT. In this example, we are going to use HMM for word alignment and lowercase the corpus."
   ]
  },
  {
   "cell_type": "code",
   "execution_count": null,
   "metadata": {
    "dotnet_interactive": {
     "language": "csharp"
    }
   },
   "outputs": [
    {
     "name": "stdout",
     "output_type": "stream",
     "text": [
      "Training model... done.\n",
      "Saving model... done.\n"
     ]
    }
   ],
   "source": [
    "using System.IO;\n",
    "using SIL.Machine.Translation.Thot;\n",
    "using SIL.Machine.Utils;\n",
    "\n",
    "Directory.CreateDirectory(\"out/sp-en\");\n",
    "File.Copy(\"data/smt.cfg\", \"out/sp-en/smt.cfg\", overwrite: true);\n",
    "{\n",
    "    using var trainer = new ThotSmtModelTrainer(ThotWordAlignmentModelType.Hmm, parallelCorpus.Lowercase(),\n",
    "        \"out/sp-en/smt.cfg\");\n",
    "\n",
    "    Write(\"Training model...\");\n",
    "    trainer.Train();\n",
    "    WriteLine($\" done.\");\n",
    "    Write(\"Saving model...\");\n",
    "    await trainer.SaveAsync();\n",
    "    WriteLine($\" done.\");\n",
    "}"
   ]
  },
  {
   "cell_type": "markdown",
   "metadata": {},
   "source": [
    "In order to fully translate a sentence, we need to perform pre-processing steps on the source sentence and post-processing steps on the target translation. Here are the steps to fully translate a sentence:\n",
    "\n",
    "1. Tokenize the source sentence.\n",
    "2. Lowercase the source tokens.\n",
    "3. Translate the sentence.\n",
    "4. Truecase the target tokens.\n",
    "5. Detokenize the target tokens into a sentence.\n",
    "\n",
    "Truecasing is the process of properly capitalizing a lowercased sentence. Luckily, Machine provides a statistical truecaser that can learn the capitalization rules for a language. The next step is train the truecaser model."
   ]
  },
  {
   "cell_type": "code",
   "execution_count": null,
   "metadata": {
    "dotnet_interactive": {
     "language": "csharp"
    }
   },
   "outputs": [],
   "source": [
    "using SIL.Machine.Translation;\n",
    "\n",
    "{\n",
    "    var truecaser = new UnigramTruecaser(\"out/sp-en/en.truecase.txt\");\n",
    "    using var trainer = truecaser.CreateTrainer(targetCorpus);\n",
    "    trainer.Train();\n",
    "    await trainer.SaveAsync();\n",
    "}"
   ]
  },
  {
   "cell_type": "markdown",
   "metadata": {},
   "source": [
    "Now that we have a trained SMT model and a trained truecasing model, we are ready to translate sentences. We need to load the SMT model and then create a translation engine using the `CreateEngine` method. The engine can be used to translate sentences using the `Translate` method."
   ]
  },
  {
   "cell_type": "code",
   "execution_count": null,
   "metadata": {
    "dotnet_interactive": {
     "language": "csharp"
    }
   },
   "outputs": [
    {
     "name": "stdout",
     "output_type": "stream",
     "text": [
      "Please I would like to book a room until tomorrow.\n"
     ]
    }
   ],
   "source": [
    "var truecaser = new UnigramTruecaser(\"out/sp-en/en.truecase.txt\");\n",
    "var tokenizer = new LatinWordTokenizer();\n",
    "var detokenizer = new LatinWordDetokenizer();\n",
    "\n",
    "IReadOnlyList<string> Preprocess(string sentence)\n",
    "{\n",
    "    IReadOnlyList<string> tokens = tokenizer.Tokenize(sentence).ToArray();\n",
    "    return tokens.Lowercase();\n",
    "}\n",
    "\n",
    "string Postprocess(IEnumerable<string> tokens, bool isSentenceStart)\n",
    "{\n",
    "    var targetTokens = truecaser.Truecase(tokens.ToArray());\n",
    "    var translation = detokenizer.Detokenize(targetTokens);\n",
    "    if (isSentenceStart)\n",
    "        translation = translation.Capitalize();\n",
    "    return translation;\n",
    "}\n",
    "\n",
    "{   \n",
    "    using var model = new ThotSmtModel(ThotWordAlignmentModelType.Hmm, \"out/sp-en/smt.cfg\");\n",
    "    using var engine = model.CreateEngine();\n",
    "\n",
    "    var sourceTokens = Preprocess(\"Por favor, desearía reservar una habitación hasta mañana.\");\n",
    "    var result = engine.Translate(sourceTokens);\n",
    "    var translation = Postprocess(result.TargetSegment, isSentenceStart: true);\n",
    "    WriteLine(translation);\n",
    "}"
   ]
  },
  {
   "cell_type": "markdown",
   "metadata": {},
   "source": [
    "`ThotSmtModel` also supports interactive machine translation. Under this paradigm, the engine assists a human translator by providing translations suggestions based on what the user has translated so far. This paradigm can be coupled with incremental training to provide a model that is constantly learning from translator input. Models and engines must implement the `IInteractiveTranslationModel` and `IInteractiveTranslationEngine` interfaces to support IMT. The `CreateInteractiveEngine` method is used to create an interactive translation engine from the model. The IMT paradigm is implemented in the `InteractiveTranslator` class. The `Approve` method on `InteractiveTranslator` performs incremental training using the current prefix. Suggestions are generated from translations using a class that implements the `ITranslationSuggester` interface."
   ]
  },
  {
   "cell_type": "code",
   "execution_count": null,
   "metadata": {
    "dotnet_interactive": {
     "language": "csharp"
    }
   },
   "outputs": [
    {
     "name": "stdout",
     "output_type": "stream",
     "text": [
      "Source: Hablé con recepción.\n",
      "Suggestion: []\n",
      "Suggestion: I spoke [with reception]\n",
      "Suggestion: I spoke with reception. []\n",
      "\n",
      "Source: Hablé hasta cinco en punto.\n",
      "Suggestion: [I spoke until five o'clock]\n",
      "Suggestion: I spoke until five o'clock. []\n"
     ]
    }
   ],
   "source": [
    "var suggester = new PhraseTranslationSuggester();\n",
    "string GetCurrentSuggestion(InteractiveTranslator translator)\n",
    "{\n",
    "    var suggestion = suggester.GetSuggestions(translator).First();\n",
    "    var suggestionText = Postprocess(suggestion.TargetWords, isSentenceStart: translator.Prefix.Count == 0);\n",
    "    var prefixText = Postprocess(translator.Prefix, isSentenceStart: true);\n",
    "    if (prefixText.Length > 0)\n",
    "        prefixText += \" \";\n",
    "    return $\"{prefixText}[{suggestionText}]\";\n",
    "}\n",
    "\n",
    "{\n",
    "    using var model = new ThotSmtModel(ThotWordAlignmentModelType.Hmm, \"out/sp-en/smt.cfg\");\n",
    "    using var engine = model.CreateInteractiveEngine();\n",
    "    var ecm = new ErrorCorrectionModel();\n",
    "\n",
    "    var sourceSentence = \"Hablé con recepción.\";\n",
    "    WriteLine($\"Source: {sourceSentence}\");\n",
    "    var sourceTokens = Preprocess(sourceSentence);\n",
    "    var translator = InteractiveTranslator.Create(ecm, engine, sourceTokens);\n",
    "\n",
    "    var suggestion = GetCurrentSuggestion(translator);\n",
    "    WriteLine($\"Suggestion: {suggestion}\");\n",
    "\n",
    "    translator.AppendToPrefix(Preprocess(\"I spoke\"));\n",
    "    suggestion = GetCurrentSuggestion(translator);\n",
    "    WriteLine($\"Suggestion: {suggestion}\");\n",
    "\n",
    "    translator.AppendToPrefix(Preprocess(\"with reception.\"));\n",
    "    suggestion = GetCurrentSuggestion(translator);\n",
    "    WriteLine($\"Suggestion: {suggestion}\");\n",
    "    translator.Approve(alignedOnly: false);\n",
    "    WriteLine();\n",
    "\n",
    "    sourceSentence = \"Hablé hasta cinco en punto.\";\n",
    "    WriteLine($\"Source: {sourceSentence}\");\n",
    "    sourceTokens = Preprocess(sourceSentence);\n",
    "    translator = InteractiveTranslator.Create(ecm, engine, sourceTokens);\n",
    "\n",
    "    suggestion = GetCurrentSuggestion(translator);\n",
    "    WriteLine($\"Suggestion: {suggestion}\");\n",
    "\n",
    "    translator.AppendToPrefix(Preprocess(\"I spoke until five o'clock.\"));\n",
    "    suggestion = GetCurrentSuggestion(translator);\n",
    "    WriteLine($\"Suggestion: {suggestion}\");\n",
    "}"
   ]
  },
  {
   "cell_type": "markdown",
   "metadata": {},
   "source": [
    "## Rule-based Machine Translation\n",
    "\n",
    "Machine provides an implementation of a simple, transfer-based MT engine. Transfer-based MT consists of three steps:\n",
    "\n",
    "1. Analysis: source words are segmented into morphemes.\n",
    "2. Transfer: source morphemes are converted to the equivalent target morphemes.\n",
    "3. Synthesis: the target morphemes are combined into target words.\n",
    "\n",
    "The `TransferEngine` class implements this process. HermitCrab, a rule-based morphological parser, can be used to perform the analysis and synthesis steps. HermitCrab parser implementation is provided in the [SIL.Machine.Morphology.HermitCrab](https://www.nuget.org/packages/SIL.Machine.Morphology.HermitCrab/) package. In this example, the transfer is performed using simple gloss matching."
   ]
  },
  {
   "cell_type": "code",
   "execution_count": null,
   "metadata": {
    "dotnet_interactive": {
     "language": "csharp"
    }
   },
   "outputs": [
    {
     "name": "stdout",
     "output_type": "stream",
     "text": [
      "God created the world.\n"
     ]
    }
   ],
   "source": [
    "using SIL.Machine.Morphology.HermitCrab;\n",
    "\n",
    "var hcTraceManager = new TraceManager();\n",
    "\n",
    "Language srcLang = XmlLanguageLoader.Load(\"data/sp-hc.xml\");\n",
    "var srcMorpher = new Morpher(hcTraceManager, srcLang);\n",
    "\n",
    "Language trgLang = XmlLanguageLoader.Load(\"data/en-hc.xml\");\n",
    "var trgMorpher = new Morpher(hcTraceManager, trgLang);\n",
    "\n",
    "var transferer = new SimpleTransferer(new GlossMorphemeMapper(trgMorpher));\n",
    "\n",
    "{\n",
    "    using var transferEngine = new TransferEngine(srcMorpher, transferer, trgMorpher);\n",
    "\n",
    "    var sourceTokens = Preprocess(\"Dios creó el mundo.\");\n",
    "    var result = transferEngine.Translate(sourceTokens);\n",
    "    var translation = Postprocess(result.TargetSegment, isSentenceStart: true);\n",
    "    WriteLine(translation);\n",
    "}"
   ]
  },
  {
   "cell_type": "markdown",
   "metadata": {},
   "source": [
    "## Hybrid Machine Translation\n",
    "\n",
    "Machine includes a hybrid machine translation approach that allows you to merge the translation results from a rule-based engine and data-driven engine. The translation from the data-drive engine is the base translation. If there are any words/phrases in the base translation that have a low score, then they will be replaced by the translations from the rule-based engine. This hybrid approach is implemented in the `HybridTranslationEngine` class."
   ]
  },
  {
   "cell_type": "code",
   "execution_count": null,
   "metadata": {
    "dotnet_interactive": {
     "language": "csharp"
    }
   },
   "outputs": [
    {
     "name": "stdout",
     "output_type": "stream",
     "text": [
      "SMT: Please make out two cuentas.\n",
      "Transfer: Por favor, haga dos bills.\n",
      "Hybrid: Please make out two bills.\n"
     ]
    }
   ],
   "source": [
    "{\n",
    "    using var smtModel = new ThotSmtModel(ThotWordAlignmentModelType.Hmm, \"out/sp-en/smt.cfg\");\n",
    "    using var smtEngine = smtModel.CreateInteractiveEngine();\n",
    "\n",
    "    using var transferEngine = new TransferEngine(srcMorpher, transferer, trgMorpher);\n",
    "\n",
    "    using var hybridEngine = new HybridTranslationEngine(smtEngine, transferEngine);\n",
    "\n",
    "    var sourceTokens = Preprocess(\"Por favor, haga dos cuentas.\");\n",
    "    var result = smtEngine.Translate(sourceTokens);\n",
    "    var translation = Postprocess(result.TargetSegment, isSentenceStart: true);\n",
    "    WriteLine($\"SMT: {translation}\");\n",
    "\n",
    "    result = transferEngine.Translate(sourceTokens);\n",
    "    translation = Postprocess(result.TargetSegment, isSentenceStart: true);\n",
    "    WriteLine($\"Transfer: {translation}\");\n",
    "\n",
    "    result = hybridEngine.Translate(sourceTokens);\n",
    "    translation = Postprocess(result.TargetSegment, isSentenceStart: true);\n",
    "    WriteLine($\"Hybrid: {translation}\");\n",
    "}"
   ]
  }
 ],
 "metadata": {
  "kernelspec": {
   "display_name": ".NET (C#)",
   "language": "C#",
   "name": ".net-csharp"
  },
  "language_info": {
   "name": "C#"
  }
 },
 "nbformat": 4,
 "nbformat_minor": 2
}
