{
 "cells": [
  {
   "cell_type": "markdown",
   "metadata": {},
   "source": [
    "# Text Corpora Tutorial\n",
    "\n",
    "In this notebook, we will demonstrate how to use Machine to load datasets as text corpora."
   ]
  },
  {
   "cell_type": "code",
   "execution_count": null,
   "metadata": {
    "dotnet_interactive": {
     "language": "csharp"
    }
   },
   "outputs": [
    {
     "data": {
      "text/html": [
       "<div><div></div><div></div><div><strong>Installed Packages</strong><ul><li><span>SIL.Scripture, 7.0.0</span></li></ul></div></div>"
      ]
     },
     "metadata": {},
     "output_type": "display_data"
    }
   ],
   "source": [
    "#r \"nuget:SIL.Scripture,7.0.0\"\n",
    "#r \"../src/SIL.Machine/bin/Debug/netstandard2.0/SIL.Machine.dll\""
   ]
  },
  {
   "cell_type": "markdown",
   "metadata": {},
   "source": [
    "## Loading Text Files\n",
    "\n",
    "Let's start with a simple example of loading a set of text files. Every text corpus class requires a tokenizer. Our text corpus has already been tokenized. The tokens are delimited using whitespace, so we will use the `WhitespaceTokenizer`."
   ]
  },
  {
   "cell_type": "code",
   "execution_count": null,
   "metadata": {
    "dotnet_interactive": {
     "language": "csharp"
    }
   },
   "outputs": [],
   "source": [
    "using SIL.Machine.Corpora;\n",
    "using SIL.Machine.Tokenization;\n",
    "\n",
    "var tokenizer = new WhitespaceTokenizer();\n",
    "var corpus = new TextFileTextCorpus(tokenizer, \"data/en_tok.txt\");"
   ]
  },
  {
   "cell_type": "markdown",
   "metadata": {},
   "source": [
    "It is easy to iterate through the sentences in the corpus. We simply call the `GetSegments` method on the corpus class."
   ]
  },
  {
   "cell_type": "code",
   "execution_count": null,
   "metadata": {
    "dotnet_interactive": {
     "language": "csharp"
    }
   },
   "outputs": [
    {
     "name": "stdout",
     "output_type": "stream",
     "text": [
      "I would like to book a room until tomorrow , please .\r\n",
      "Please wake us up tomorrow at a quarter past seven .\r\n",
      "I am leaving today in the afternoon .\r\n",
      "Would you mind sending down our luggage to room number oh one three , please ?\r\n",
      "Could you give me the key to room number two four four , please ?\r\n",
      "Are there a tv , air conditioning and a safe in the rooms ?\r\n",
      "We are leaving on the eighth at half past seven in the afternoon .\r\n",
      "I want a single room for this week , please .\r\n",
      "I would like you to give us the keys to the room .\r\n",
      "I have made a reservation for a quiet , single room with a view of the mountain and a shower for Carmen Aguilera .\r\n"
     ]
    }
   ],
   "source": [
    "foreach (TextSegment textSegment in corpus.GetSegments().Take(10))\n",
    "    Console.WriteLine(string.Join(\" \", textSegment.Segment));"
   ]
  },
  {
   "cell_type": "markdown",
   "metadata": {},
   "source": [
    "## Loading Scripture\n",
    "\n",
    "Machine contains classes for loading Scripture in various formats, such as USFM and USX."
   ]
  },
  {
   "cell_type": "markdown",
   "metadata": {},
   "source": [
    "### USX\n",
    "\n",
    "USX is a common XML format for Scripture. Let's take a look at how to load a set of USX files. First, we create an instance of the `UsxFileTextCorpus` class. We ensure that the correct verse references are used by loading the versification file for this translation. If a versification is not provided, then the English versification is used. We want untokenized verse text, so we use the `NullTokenizer`."
   ]
  },
  {
   "cell_type": "code",
   "execution_count": null,
   "metadata": {
    "dotnet_interactive": {
     "language": "csharp"
    }
   },
   "outputs": [],
   "source": [
    "using SIL.Scripture;\n",
    "\n",
    "var tokenizer = new NullTokenizer();\n",
    "var versification = Versification.Table.Implementation.Load(\"data/WEB-DBL/release/versification.vrs\", \"web\");\n",
    "var corpus = new UsxFileTextCorpus(tokenizer, \"data/WEB-DBL/release/USX_1\", versification);"
   ]
  },
  {
   "cell_type": "markdown",
   "metadata": {},
   "source": [
    "Let's iterate through the corpus. You will notice that each text segment in the corpus has an associated reference. In the case of Scripture, these are `VerseRef` objects."
   ]
  },
  {
   "cell_type": "code",
   "execution_count": null,
   "metadata": {
    "dotnet_interactive": {
     "language": "csharp"
    }
   },
   "outputs": [
    {
     "name": "stdout",
     "output_type": "stream",
     "text": [
      "1JN 1:1: That which was from the beginning, that which we have heard, that which we have seen with our eyes, that which we saw, and our hands touched, concerning the Word of life\r\n",
      "1JN 1:2: (and the life was revealed, and we have seen, and testify, and declare to you the life, the eternal life, which was with the Father, and was revealed to us);\r\n",
      "1JN 1:3: that which we have seen and heard we declare to you, that you also may have fellowship with us. Yes, and our fellowship is with the Father and with his Son, Jesus Christ.\r\n",
      "1JN 1:4: And we write these things to you, that our joy may be fulfilled.\r\n",
      "1JN 1:5: This is the message which we have heard from him and announce to you, that God is light, and in him is no darkness at all.\r\n",
      "1JN 1:6: If we say that we have fellowship with him and walk in the darkness, we lie and don’t tell the truth.\r\n",
      "1JN 1:7: But if we walk in the light as he is in the light, we have fellowship with one another, and the blood of Jesus Christ his Son, cleanses us from all sin.\r\n",
      "1JN 1:8: If we say that we have no sin, we deceive ourselves, and the truth is not in us.\r\n",
      "1JN 1:9: If we confess our sins, he is faithful and righteous to forgive us the sins and to cleanse us from all unrighteousness.\r\n",
      "1JN 1:10: If we say that we haven’t sinned, we make him a liar, and his word is not in us.\r\n"
     ]
    }
   ],
   "source": [
    "foreach (TextSegment textSegment in corpus.GetSegments().Take(10))\n",
    "{\n",
    "    var verseRefStr = textSegment.SegmentRef.ToString();\n",
    "    var verseText = string.Join(\" \", textSegment.Segment);\n",
    "    Console.WriteLine($\"{verseRefStr}: {verseText}\");\n",
    "}"
   ]
  },
  {
   "cell_type": "markdown",
   "metadata": {},
   "source": [
    "You can also iterate through verses in the corpus by book."
   ]
  },
  {
   "cell_type": "code",
   "execution_count": null,
   "metadata": {
    "dotnet_interactive": {
     "language": "csharp"
    }
   },
   "outputs": [
    {
     "name": "stdout",
     "output_type": "stream",
     "text": [
      "1JN\r\n",
      "======\r\n",
      "1:1: That which was from the beginning, that which we have heard, that which we have seen with our eyes, that which we saw, and our hands touched, concerning the Word of life\r\n",
      "1:2: (and the life was revealed, and we have seen, and testify, and declare to you the life, the eternal life, which was with the Father, and was revealed to us);\r\n",
      "1:3: that which we have seen and heard we declare to you, that you also may have fellowship with us. Yes, and our fellowship is with the Father and with his Son, Jesus Christ.\r\n",
      "\r\n",
      "2JN\r\n",
      "======\r\n",
      "1:1: The elder, to the chosen lady and her children, whom I love in truth, and not I only, but also all those who know the truth,\r\n",
      "1:2: for the truth’s sake, which remains in us, and it will be with us forever:\r\n",
      "1:3: Grace, mercy, and peace will be with us, from God the Father and from the Lord Jesus Christ, the Son of the Father, in truth and love.\r\n",
      "\r\n",
      "3JN\r\n",
      "======\r\n",
      "1:1: The elder to Gaius the beloved, whom I love in truth.\r\n",
      "1:2: Beloved, I pray that you may prosper in all things and be healthy, even as your soul prospers.\r\n",
      "1:3: For I rejoiced greatly when brothers came and testified about your truth, even as you walk in truth.\r\n",
      "\r\n"
     ]
    }
   ],
   "source": [
    "foreach (IText text in corpus.Texts)\n",
    "{\n",
    "    Console.WriteLine(text.Id);\n",
    "    Console.WriteLine(\"======\");\n",
    "    foreach (TextSegment textSegment in text.GetSegments().Take(3))\n",
    "    {\n",
    "        var verseRef = (VerseRef)textSegment.SegmentRef;\n",
    "        var chapterVerse = $\"{verseRef.Chapter}:{verseRef.Verse}\";\n",
    "        var verseText = string.Join(\" \", textSegment.Segment);\n",
    "        Console.WriteLine($\"{chapterVerse}: {verseText}\");\n",
    "    }\n",
    "    Console.WriteLine();\n",
    "}"
   ]
  },
  {
   "cell_type": "markdown",
   "metadata": {},
   "source": [
    "### Digital Bible Library Bundles\n",
    "\n",
    "Now, let's load a Digital Bible Library (DBL) bundle. A DBL bundle is a zip archive that contains all of the data that you need for a publishable Bible translation."
   ]
  },
  {
   "cell_type": "code",
   "execution_count": null,
   "metadata": {
    "dotnet_interactive": {
     "language": "csharp"
    }
   },
   "outputs": [
    {
     "name": "stdout",
     "output_type": "stream",
     "text": [
      "DBL bundle created.\r\n"
     ]
    }
   ],
   "source": [
    "using System.IO;\n",
    "using System.IO.Compression;\n",
    "\n",
    "Directory.CreateDirectory(\"out\");\n",
    "if (File.Exists(\"out/web.zip\"))\n",
    "    File.Delete(\"out/web.zip\");\n",
    "ZipFile.CreateFromDirectory(\"data/WEB-DBL\", \"out/web.zip\");\n",
    "Console.WriteLine(\"DBL bundle created.\")"
   ]
  },
  {
   "cell_type": "markdown",
   "metadata": {},
   "source": [
    "First, we create a `DblBundleTextCorpus` instance. This time we want to tokenize the text, so we use the `LatinWordTokenizer`, a good default tokenizer for languages with Latin-based scripts. There is no need to specify versification, because the `DblBundleTextCorpus` class takes care of that for us."
   ]
  },
  {
   "cell_type": "code",
   "execution_count": null,
   "metadata": {
    "dotnet_interactive": {
     "language": "csharp"
    }
   },
   "outputs": [],
   "source": [
    "var tokenizer = new LatinWordTokenizer();\n",
    "var corpus = new DblBundleTextCorpus(tokenizer, \"out/web.zip\");"
   ]
  },
  {
   "cell_type": "markdown",
   "metadata": {},
   "source": [
    "We can iterate through the corpus just as we did before. All text corpus classes in Machine adhere to the same interface, so it is easy to switch between the various classes. Also, you can see that the verse text is nicely tokenized."
   ]
  },
  {
   "cell_type": "code",
   "execution_count": null,
   "metadata": {
    "dotnet_interactive": {
     "language": "csharp"
    }
   },
   "outputs": [
    {
     "name": "stdout",
     "output_type": "stream",
     "text": [
      "1JN 1:1: That which was from the beginning , that which we have heard , that which we have seen with our eyes , that which we saw , and our hands touched , concerning the Word of life\r\n",
      "1JN 1:2: ( and the life was revealed , and we have seen , and testify , and declare to you the life , the eternal life , which was with the Father , and was revealed to us ) ;\r\n",
      "1JN 1:3: that which we have seen and heard we declare to you , that you also may have fellowship with us . Yes , and our fellowship is with the Father and with his Son , Jesus Christ .\r\n",
      "1JN 1:4: And we write these things to you , that our joy may be fulfilled .\r\n",
      "1JN 1:5: This is the message which we have heard from him and announce to you , that God is light , and in him is no darkness at all .\r\n",
      "1JN 1:6: If we say that we have fellowship with him and walk in the darkness , we lie and don’t tell the truth .\r\n",
      "1JN 1:7: But if we walk in the light as he is in the light , we have fellowship with one another , and the blood of Jesus Christ his Son , cleanses us from all sin .\r\n",
      "1JN 1:8: If we say that we have no sin , we deceive ourselves , and the truth is not in us .\r\n",
      "1JN 1:9: If we confess our sins , he is faithful and righteous to forgive us the sins and to cleanse us from all unrighteousness .\r\n",
      "1JN 1:10: If we say that we haven’t sinned , we make him a liar , and his word is not in us .\r\n"
     ]
    }
   ],
   "source": [
    "foreach (TextSegment textSegment in corpus.GetSegments().Take(10))\n",
    "{\n",
    "    var verseRefStr = textSegment.SegmentRef.ToString();\n",
    "    var verseText = string.Join(\" \", textSegment.Segment);\n",
    "    Console.WriteLine($\"{verseRefStr}: {verseText}\");\n",
    "}"
   ]
  },
  {
   "cell_type": "markdown",
   "metadata": {},
   "source": [
    "### Paratext Projects\n",
    "\n",
    "Another useful text corpus class is `ParatextTextCorpus`. This class is used to load a Paratext project. It properly loads the configured encoding and versification for the project."
   ]
  },
  {
   "cell_type": "code",
   "execution_count": null,
   "metadata": {
    "dotnet_interactive": {
     "language": "csharp"
    }
   },
   "outputs": [],
   "source": [
    "var corpus = new ParatextTextCorpus(tokenizer, \"data/WEB-PT\");"
   ]
  },
  {
   "cell_type": "markdown",
   "metadata": {},
   "source": [
    "Now, let's iterate through the segments."
   ]
  },
  {
   "cell_type": "code",
   "execution_count": null,
   "metadata": {
    "dotnet_interactive": {
     "language": "csharp"
    }
   },
   "outputs": [
    {
     "name": "stdout",
     "output_type": "stream",
     "text": [
      "1JN 1:1: That which was from the beginning , that which we have heard , that which we have seen with our eyes , that which we saw , and our hands touched , concerning the Word of life\r\n",
      "1JN 1:2: ( and the life was revealed , and we have seen , and testify , and declare to you the life , the eternal life , which was with the Father , and was revealed to us ) ;\r\n",
      "1JN 1:3: that which we have seen and heard we declare to you , that you also may have fellowship with us . Yes , and our fellowship is with the Father and with his Son , Jesus Christ .\r\n",
      "1JN 1:4: And we write these things to you , that our joy may be fulfilled .\r\n",
      "1JN 1:5: This is the message which we have heard from him and announce to you , that God is light , and in him is no darkness at all .\r\n",
      "1JN 1:6: If we say that we have fellowship with him and walk in the darkness , we lie and don’t tell the truth .\r\n",
      "1JN 1:7: But if we walk in the light as he is in the light , we have fellowship with one another , and the blood of Jesus Christ his Son , cleanses us from all sin .\r\n",
      "1JN 1:8: If we say that we have no sin , we deceive ourselves , and the truth is not in us .\r\n",
      "1JN 1:9: If we confess our sins , he is faithful and righteous to forgive us the sins and to cleanse us from all unrighteousness .\r\n",
      "1JN 1:10: If we say that we haven’t sinned , we make him a liar , and his word is not in us .\r\n"
     ]
    }
   ],
   "source": [
    "foreach (TextSegment textSegment in corpus.GetSegments().Take(10))\n",
    "{\n",
    "    var verseRefStr = textSegment.SegmentRef.ToString();\n",
    "    var verseText = string.Join(\" \", textSegment.Segment);\n",
    "    Console.WriteLine($\"{verseRefStr}: {verseText}\");\n",
    "}"
   ]
  },
  {
   "cell_type": "markdown",
   "metadata": {},
   "source": [
    "## Token Processors\n",
    "\n",
    "Often tokenized text must be processed in some way as a part of a AI/ML pipeline. Machine has a set of token processors that can be used to process text segments easily. Lowercasing text is a common pre-processing step, so let's show how to apply the `TokenProcessors.Lowercase` token processor."
   ]
  },
  {
   "cell_type": "code",
   "execution_count": null,
   "metadata": {
    "dotnet_interactive": {
     "language": "csharp"
    }
   },
   "outputs": [
    {
     "name": "stdout",
     "output_type": "stream",
     "text": [
      "new york is cold in the winter .\r\n"
     ]
    }
   ],
   "source": [
    "using static SIL.Machine.Corpora.TokenProcessors;\n",
    "\n",
    "var sentence = \"New York is cold in the Winter .\".Split();\n",
    "Console.WriteLine(string.Join(\" \", Lowercase.Process(sentence)))"
   ]
  },
  {
   "cell_type": "markdown",
   "metadata": {},
   "source": [
    "Multiple token processors can be applied in sequence using the `TokenProcessors.Pipeline` function. Here we will lowercase a segment and normalize it to NFC."
   ]
  },
  {
   "cell_type": "code",
   "execution_count": null,
   "metadata": {
    "dotnet_interactive": {
     "language": "csharp"
    }
   },
   "outputs": [
    {
     "name": "stdout",
     "output_type": "stream",
     "text": [
      "The length of decomposed Åström is 8.\r\n",
      "The length of precomposed åström is 6.\r\n"
     ]
    }
   ],
   "source": [
    "IReadOnlyList<string> sentence = \"Here is a decomposed Swedish name Åström .\".Split();\n",
    "Console.WriteLine($\"The length of decomposed {sentence[6]} is {sentence[6].Length}.\");\n",
    "sentence = Pipeline(NfcNormalize, Lowercase).Process(sentence);\n",
    "Console.WriteLine($\"The length of precomposed {sentence[6]} is {sentence[6].Length}.\");"
   ]
  },
  {
   "cell_type": "markdown",
   "metadata": {},
   "source": [
    "## Parallel Text Corpora\n",
    "\n",
    "So far we have only dealt with monolingual corpora. For many tasks, such as machine translation, parallel corpora are required. Machine provides a corpus class for combining two monolingual corpora into a parallel corpus."
   ]
  },
  {
   "cell_type": "markdown",
   "metadata": {},
   "source": [
    "In order to create a parallel text corpus, we must first create the source and target monolingual text corpora. Then, we can create the `ParallelTextCorpus` object from the monolingual corpus objects."
   ]
  },
  {
   "cell_type": "code",
   "execution_count": null,
   "metadata": {
    "dotnet_interactive": {
     "language": "csharp"
    }
   },
   "outputs": [],
   "source": [
    "var sourceCorpus = new ParatextTextCorpus(tokenizer, \"data/VBL-PT\");\n",
    "var targetCorpus = new ParatextTextCorpus(tokenizer, \"data/WEB-PT\");\n",
    "var parallelCorpus = new ParallelTextCorpus(sourceCorpus, targetCorpus);"
   ]
  },
  {
   "cell_type": "markdown",
   "metadata": {},
   "source": [
    "We can now iterate through the parallel segments."
   ]
  },
  {
   "cell_type": "code",
   "execution_count": null,
   "metadata": {
    "dotnet_interactive": {
     "language": "csharp"
    }
   },
   "outputs": [
    {
     "name": "stdout",
     "output_type": "stream",
     "text": [
      "1JN 1:1\r\n",
      "Source: Esta carta trata sobre la Palabra de vida que existía desde el principio , que hemos escuchado , que hemos visto con nuestros propios ojos y le hemos contemplado , y que hemos tocado con nuestras manos .\r\n",
      "Target: That which was from the beginning , that which we have heard , that which we have seen with our eyes , that which we saw , and our hands touched , concerning the Word of life\r\n",
      "1JN 1:2\r\n",
      "Source: Esta Vida nos fue revelada . La vimos y damos testimonio de ella . Estamos hablándoles de Aquél que es la Vida Eterna , que estaba con el Padre , y que nos fue revelado .\r\n",
      "Target: ( and the life was revealed , and we have seen , and testify , and declare to you the life , the eternal life , which was with the Father , and was revealed to us ) ;\r\n",
      "1JN 1:3\r\n",
      "Source: Los que hemos visto y oído eso mismo les contamos , para que también puedan participar de esta amistad junto a nosotros . Esta amistad con el Padre y su Hijo Jesucristo .\r\n",
      "Target: that which we have seen and heard we declare to you , that you also may have fellowship with us . Yes , and our fellowship is with the Father and with his Son , Jesus Christ .\r\n",
      "1JN 1:4\r\n",
      "Source: Escribimos para decirles esto , a fin de que nuestra felicidad sea completa .\r\n",
      "Target: And we write these things to you , that our joy may be fulfilled .\r\n",
      "1JN 1:5\r\n",
      "Source: Este es el mensaje que recibimos de él y que nosotros les declaramos a ustedes : Dios es luz , y no hay ningún vestigio de oscuridad en él .\r\n",
      "Target: This is the message which we have heard from him and announce to you , that God is light , and in him is no darkness at all .\r\n"
     ]
    }
   ],
   "source": [
    "foreach (ParallelTextSegment textSegment in parallelCorpus.GetSegments().Take(5))\n",
    "{\n",
    "    var verseRefStr = textSegment.SegmentRef.ToString();\n",
    "    var sourceVerseText = string.Join(\" \", textSegment.SourceSegment);\n",
    "    var targetVerseText = string.Join(\" \", textSegment.TargetSegment);\n",
    "    Console.WriteLine(verseRefStr);\n",
    "    Console.WriteLine($\"Source: {sourceVerseText}\");\n",
    "    Console.WriteLine($\"Target: {targetVerseText}\");\n",
    "}"
   ]
  }
 ],
 "metadata": {
  "kernelspec": {
   "display_name": ".NET (C#)",
   "language": "C#",
   "name": ".net-csharp"
  },
  "language_info": {
   "name": "C#"
  }
 },
 "nbformat": 4,
 "nbformat_minor": 2
}
